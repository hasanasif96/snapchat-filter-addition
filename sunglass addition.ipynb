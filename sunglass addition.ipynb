{
 "cells": [
  {
   "cell_type": "code",
   "execution_count": null,
   "metadata": {},
   "outputs": [],
   "source": [
    "from math import hypot\n",
    "cap=cv2.VideoCapture(0)\n",
    "detector=dlib.get_frontal_face_detector()\n",
    "predictor = dlib.shape_predictor(\"shape_predictor_68_face_landmarks.dat\")\n",
    "sunglass=cv2.imread(\"tempsnip.png\")"
   ]
  },
  {
   "cell_type": "code",
   "execution_count": 1,
   "metadata": {},
   "outputs": [],
   "source": [
    "while True:\n",
    "    _,frame=cap.read()\n",
    "    \n",
    "    gray_frame = cv2.cvtColor(frame, cv2.COLOR_BGR2GRAY)\n",
    "    \n",
    "    faces=detector(gray_frame)\n",
    "    \n",
    "    for face in faces:\n",
    "        landmarks = predictor(gray_frame, face)\n",
    "        extreme_left=(landmarks.part(17).x,landmarks.part(17).y)                   \n",
    "        extreme_right=(landmarks.part(26).x,landmarks.part(26).y)              \n",
    "        center_eye=(landmarks.part(27).x,landmarks.part(27).y)\n",
    "        left_eye=(landmarks.part(36).x,landmarks.part(36).y)\n",
    "        right_eye=(landmarks.part(45).x,landmarks.part(45).y)\n",
    "        bottom_eye=(landmarks.part(29).x,landmarks.part(29).y)\n",
    "\n",
    "        new_height=int(hypot(bottom_eye[0]-center_eye[0],bottom_eye[1]-center_eye[1]))\n",
    "        frame_width=int(hypot(extreme_left[0]-extreme_right[0],extreme_left[1]-extreme_right[1]))\n",
    "       \n",
    "        eye_width=int(hypot(extreme_left[0]-extreme_right[0],extreme_left[1]-extreme_right[1]))\n",
    "\n",
    "        eye_height=int(new_height*2)               \n",
    "\n",
    "        top_left = (int(extreme_left[0]),int(extreme_left[1]))\n",
    "        bottom_right = (int(extreme_right[0]),int(extreme_right[1] + (new_height*2)))\n",
    "        \n",
    "        \n",
    "        \n",
    "        size_sunglass=cv2.resize(sunglass,(eye_width,eye_height))  #reshape sunglass to person eyes\n",
    "        sunglass_gray= cv2.cvtColor(size_sunglass, cv2.COLOR_BGR2GRAY) #converting it to gray\n",
    "        _,sunglass_mask = cv2.threshold(sunglass_gray, 40, 255, cv2.THRESH_BINARY_INV)\n",
    "\n",
    "\n",
    "        eye_area = frame[top_left[1]: top_left[1] + int(new_height*2),top_left[0]: top_left[0] + frame_width]\n",
    "        no_eye_area = cv2.bitwise_and(eye_area, eye_area,mask=sunglass_mask)   \n",
    "        final_eye = cv2.add(no_eye_area,size_sunglass)  \n",
    "\n",
    "        frame[top_left[1]: top_left[1] + (new_height*2),top_left[0]: top_left[0] + frame_width]=final_eye\n",
    "\n",
    "\n",
    "    cv2.imshow(\"Frame\", frame)\n",
    "\n",
    "\n",
    "\n",
    "    k = cv2.waitKey(30) & 0xff\n",
    "    if k == 27:\n",
    "        break\n",
    "\n",
    "cap.release()\n",
    "cv2.destroyAllWindows()"
   ]
  },
  {
   "cell_type": "code",
   "execution_count": null,
   "metadata": {},
   "outputs": [],
   "source": []
  }
 ],
 "metadata": {
  "kernelspec": {
   "display_name": "Python 3",
   "language": "python",
   "name": "python3"
  },
  "language_info": {
   "codemirror_mode": {
    "name": "ipython",
    "version": 3
   },
   "file_extension": ".py",
   "mimetype": "text/x-python",
   "name": "python",
   "nbconvert_exporter": "python",
   "pygments_lexer": "ipython3",
   "version": "3.7.0"
  }
 },
 "nbformat": 4,
 "nbformat_minor": 2
}
